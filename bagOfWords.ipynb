{
 "cells": [
  {
   "cell_type": "code",
   "execution_count": 1,
   "metadata": {},
   "outputs": [],
   "source": [
    "import re\n",
    "import pandas as pd\n",
    "import numpy as np\n",
    "\n",
    "from bs4 import BeautifulSoup\n",
    "\n",
    "import nltk\n",
    "from nltk.corpus import stopwords # Import the stop word list\n",
    "\n",
    "from sklearn.feature_extraction.text import CountVectorizer\n",
    "from sklearn.ensemble import RandomForestClassifier\n",
    "from sklearn.feature_extraction.text import TfidfVectorizer\n",
    "\n",
    "from IPython.core.interactiveshell import InteractiveShell\n",
    "InteractiveShell.ast_node_interactivity = 'all'"
   ]
  },
  {
   "cell_type": "markdown",
   "metadata": {},
   "source": [
    "### Import Data"
   ]
  },
  {
   "cell_type": "code",
   "execution_count": 2,
   "metadata": {},
   "outputs": [],
   "source": [
    "train = pd.read_csv('labeledTrainData.tsv', delimiter=\"\\t\", header=0,  quoting=3)\n",
    "test = pd.read_csv(\"testData.tsv\", header=0, delimiter=\"\\t\", quoting=3)\n",
    "num_train_reviews = len(train['review'])\n",
    "num_test_reviews = len(test['review'])"
   ]
  },
  {
   "cell_type": "code",
   "execution_count": 3,
   "metadata": {},
   "outputs": [
    {
     "data": {
      "text/plain": [
       "(array([0, 1], dtype=int64), array([12500, 12500], dtype=int64))"
      ]
     },
     "execution_count": 3,
     "metadata": {},
     "output_type": "execute_result"
    }
   ],
   "source": [
    "np.unique(train[\"sentiment\"], return_counts=True)"
   ]
  },
  {
   "cell_type": "markdown",
   "metadata": {},
   "source": [
    "### Word Preprocessing"
   ]
  },
  {
   "cell_type": "code",
   "execution_count": 4,
   "metadata": {},
   "outputs": [],
   "source": [
    "def review_to_words(data):\n",
    "    soup = BeautifulSoup(data)\n",
    "    letters_only = re.sub(\"[^a-zA-Z]\", \" \", soup.get_text())\n",
    "    lower_case = letters_only.lower()\n",
    "    words = lower_case.split()\n",
    "    stops = set(stopwords.words(\"english\"))\n",
    "    words = [w for w in words if not w in stops]\n",
    "    return (\" \".join(words))"
   ]
  },
  {
   "cell_type": "markdown",
   "metadata": {},
   "source": [
    "### Feature Construction"
   ]
  },
  {
   "cell_type": "code",
   "execution_count": 5,
   "metadata": {},
   "outputs": [
    {
     "name": "stderr",
     "output_type": "stream",
     "text": [
      "c:\\Users\\dppel\\miniconda3\\envs\\deep\\lib\\site-packages\\bs4\\__init__.py:435: MarkupResemblesLocatorWarning: The input looks more like a filename than markup. You may want to open this file and pass the filehandle into Beautiful Soup.\n",
      "  warnings.warn(\n"
     ]
    }
   ],
   "source": [
    "clean_train_reviews = []\n",
    "for i in range(0, num_train_reviews):\n",
    "    clean_train_reviews.append(review_to_words(train[\"review\"][i]))"
   ]
  },
  {
   "cell_type": "code",
   "execution_count": 6,
   "metadata": {},
   "outputs": [],
   "source": [
    "vectorizer = CountVectorizer(analyzer= \"word\",\n",
    "                            tokenizer= None,\n",
    "                            preprocessor= None,\n",
    "                            stop_words= None,\n",
    "                            max_features= 5000)\n",
    "processed_features = vectorizer.fit_transform(clean_train_reviews)"
   ]
  },
  {
   "cell_type": "markdown",
   "metadata": {},
   "source": [
    "### Model Training"
   ]
  },
  {
   "cell_type": "code",
   "execution_count": 7,
   "metadata": {},
   "outputs": [],
   "source": [
    "forest = RandomForestClassifier(n_estimators=1000)\n",
    "forest = forest.fit(processed_features, train[\"sentiment\"])"
   ]
  },
  {
   "cell_type": "markdown",
   "metadata": {},
   "source": [
    "### Inference"
   ]
  },
  {
   "cell_type": "code",
   "execution_count": 36,
   "metadata": {},
   "outputs": [],
   "source": [
    "def get_feature_vector(reviews, vectorizer):\n",
    "    clean_reviews = []\n",
    "    for i in range(0, len(reviews)):\n",
    "        clean_reviews.append(review_to_words(reviews[i]))\n",
    "\n",
    "    test_data_features = vectorizer.transform(clean_reviews)\n",
    "    test_data_features = test_data_features.toarray()\n",
    "    \n",
    "    return test_data_features"
   ]
  },
  {
   "cell_type": "code",
   "execution_count": 9,
   "metadata": {},
   "outputs": [
    {
     "name": "stderr",
     "output_type": "stream",
     "text": [
      "c:\\Users\\dppel\\miniconda3\\envs\\deep\\lib\\site-packages\\bs4\\__init__.py:435: MarkupResemblesLocatorWarning: The input looks more like a filename than markup. You may want to open this file and pass the filehandle into Beautiful Soup.\n",
      "  warnings.warn(\n"
     ]
    }
   ],
   "source": [
    "test_data_features = get_feature_vector(test[\"review\"], vectorizer)\n",
    "result = forest.predict(test_data_features)\n",
    "output = pd.DataFrame(data={\"id\":test['id'],\n",
    "                            \"sentiment\":result})\n",
    "output.to_csv(\"results/Bag_of_Words_model.csv\", index=False, quoting=3)"
   ]
  },
  {
   "cell_type": "markdown",
   "metadata": {},
   "source": [
    "## TF-IDF"
   ]
  },
  {
   "cell_type": "code",
   "execution_count": 10,
   "metadata": {},
   "outputs": [],
   "source": [
    "tfidf_vectorizer = TfidfVectorizer(max_features=2500,stop_words=stopwords.words('english'))\n",
    "tfidf_features = tfidf_vectorizer.fit_transform(clean_train_reviews).toarray()"
   ]
  },
  {
   "cell_type": "markdown",
   "metadata": {},
   "source": [
    "### Model Training"
   ]
  },
  {
   "cell_type": "code",
   "execution_count": 11,
   "metadata": {},
   "outputs": [],
   "source": [
    "tfidf_forest = RandomForestClassifier(n_estimators=1000)\n",
    "tfidf_forest = tfidf_forest.fit(tfidf_features, train[\"sentiment\"])"
   ]
  },
  {
   "cell_type": "markdown",
   "metadata": {},
   "source": [
    "### Inference"
   ]
  },
  {
   "cell_type": "code",
   "execution_count": 12,
   "metadata": {},
   "outputs": [
    {
     "name": "stderr",
     "output_type": "stream",
     "text": [
      "c:\\Users\\dppel\\miniconda3\\envs\\deep\\lib\\site-packages\\bs4\\__init__.py:435: MarkupResemblesLocatorWarning: The input looks more like a filename than markup. You may want to open this file and pass the filehandle into Beautiful Soup.\n",
      "  warnings.warn(\n"
     ]
    }
   ],
   "source": [
    "tfidf_test_features = get_feature_vector(test[\"review\"], tfidf_vectorizer)\n",
    "tfidf_result = forest.predict(tfidf_test_features)\n",
    "tfidf_output = pd.DataFrame(data={\"id\":test['id'],\n",
    "                            \"sentiment\":tfidf_result})\n",
    "tfidf_output.to_csv(\"Bag_of_Words_model_tf_idf.csv\", index=False, quoting=3)"
   ]
  },
  {
   "cell_type": "markdown",
   "metadata": {},
   "source": [
    "## Bigrams"
   ]
  },
  {
   "cell_type": "code",
   "execution_count": 33,
   "metadata": {},
   "outputs": [],
   "source": [
    "bigram_vectorizer = CountVectorizer(ngram_range=(2, 2), max_features=5000)\n",
    "bigram_features = bigram_vectorizer.fit_transform(clean_train_reviews)"
   ]
  },
  {
   "cell_type": "code",
   "execution_count": 34,
   "metadata": {},
   "outputs": [],
   "source": [
    "bigram_forest = RandomForestClassifier(n_estimators=100)\n",
    "bigram_forest = bigram_forest.fit(bigram_features, train[\"sentiment\"])"
   ]
  },
  {
   "cell_type": "code",
   "execution_count": 38,
   "metadata": {},
   "outputs": [],
   "source": [
    "bigram_test_features = get_feature_vector(test[\"review\"], bigram_vectorizer)\n",
    "bigram_result = bigram_forest.predict(bigram_test_features)\n",
    "bigram_output = pd.DataFrame(data={\"id\":test['id'], \"sentiment\":bigram_result})\n",
    "bigram_output.to_csv(\"results/Bag_of_Words_model_bigram.csv\", index=False, quoting=3)"
   ]
  },
  {
   "cell_type": "markdown",
   "metadata": {},
   "source": [
    "### Bigram TF-IDF"
   ]
  },
  {
   "cell_type": "code",
   "execution_count": 42,
   "metadata": {},
   "outputs": [],
   "source": [
    "bigram_tf_vectorizer = TfidfVectorizer(ngram_range=(2, 2), max_features=5000)\n",
    "bigram_tf_features = bigram_tf_vectorizer.fit_transform(clean_train_reviews)"
   ]
  },
  {
   "cell_type": "code",
   "execution_count": 43,
   "metadata": {},
   "outputs": [],
   "source": [
    "bigram_tf_forest = RandomForestClassifier(n_estimators=100)\n",
    "bigram_tf_forest = bigram_tf_forest.fit(bigram_features, train[\"sentiment\"])"
   ]
  },
  {
   "cell_type": "code",
   "execution_count": 44,
   "metadata": {},
   "outputs": [
    {
     "name": "stderr",
     "output_type": "stream",
     "text": [
      "c:\\Users\\dppel\\miniconda3\\envs\\deep\\lib\\site-packages\\bs4\\__init__.py:435: MarkupResemblesLocatorWarning: The input looks more like a filename than markup. You may want to open this file and pass the filehandle into Beautiful Soup.\n",
      "  warnings.warn(\n"
     ]
    }
   ],
   "source": [
    "bigram_tf_test_features = get_feature_vector(test[\"review\"], bigram_tf_vectorizer)\n",
    "bigram_tf_result = bigram_tf_forest.predict(bigram_tf_test_features)\n",
    "bigram_tf_output = pd.DataFrame(data={\"id\":test['id'], \"sentiment\":bigram_tf_result})\n",
    "bigram_tf_output.to_csv(\"results/Bag_of_Words_model_bigram_tfidf.csv\", index=False, quoting=3)"
   ]
  },
  {
   "cell_type": "code",
   "execution_count": null,
   "metadata": {},
   "outputs": [],
   "source": []
  }
 ],
 "metadata": {
  "kernelspec": {
   "display_name": "Python 3.9.13 ('deep')",
   "language": "python",
   "name": "python3"
  },
  "language_info": {
   "codemirror_mode": {
    "name": "ipython",
    "version": 3
   },
   "file_extension": ".py",
   "mimetype": "text/x-python",
   "name": "python",
   "nbconvert_exporter": "python",
   "pygments_lexer": "ipython3",
   "version": "3.9.13"
  },
  "orig_nbformat": 4,
  "vscode": {
   "interpreter": {
    "hash": "d954ea2f012f7e4b7d0735bc35fd0aba776948daf92785285f0bc99b425799a9"
   }
  }
 },
 "nbformat": 4,
 "nbformat_minor": 2
}
